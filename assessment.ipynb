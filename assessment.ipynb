{
 "cells": [
  {
   "cell_type": "code",
   "execution_count": 27,
   "metadata": {},
   "outputs": [
    {
     "name": "stdout",
     "output_type": "stream",
     "text": [
      "Number of pregnancies 13593\n"
     ]
    }
   ],
   "source": [
    "import survey\n",
    "table=survey.Pregnancies()\n",
    "table.ReadRecords();\n",
    "print ('Number of pregnancies', len(table.records))"
   ]
  },
  {
   "cell_type": "code",
   "execution_count": 56,
   "metadata": {},
   "outputs": [
    {
     "name": "stdout",
     "output_type": "stream",
     "text": [
      "No of liveBirths found :  9148\n"
     ]
    }
   ],
   "source": [
    "# https://www.icpsr.umich.edu/nsfg6/Controller?displayPage=labelDetails&fileCode=PREG&section=&subSec=8014&srtLabel=611785\n",
    "# Check for results from above docs\n",
    "def liveBirthCount(data):\n",
    "    a = 0;\n",
    "    for x in data:\n",
    "        if(x.outcome == 1):\n",
    "            a = a+1;\n",
    "    return a;\n",
    "livebirths = liveBirthCount(table.records)\n",
    "print('No of liveBirths found : ',livebirths)"
   ]
  },
  {
   "cell_type": "code",
   "execution_count": 95,
   "metadata": {},
   "outputs": [
    {
     "name": "stdout",
     "output_type": "stream",
     "text": [
      "No of first Birth babies:  4413\n",
      "No of non - first Birth babies:  4735\n",
      "Data not available  0\n"
     ]
    }
   ],
   "source": [
    "def getbirthOrders(data):\n",
    "    firstBirth = 0;\n",
    "    otherOrders = 0;\n",
    "    notavailable = 0;\n",
    "    for baby in data:\n",
    "        if baby.outcome != 1:\n",
    "            continue\n",
    "        if baby.birthord == 1:\n",
    "            firstBirth = firstBirth+1\n",
    "        elif baby.birthord == 'NA':\n",
    "            notavailable = notavailable+1\n",
    "        else :\n",
    "            otherOrders = otherOrders+1\n",
    "    return firstBirth, otherOrders, notavailable;\n",
    "    \n",
    "first, others, notavailables = getbirthOrders(table.records)\n",
    "print('No of first Birth babies: ',first)\n",
    "print('No of non - first Birth babies: ',others)\n",
    "print('Data not available ',notavailables)"
   ]
  },
  {
   "cell_type": "code",
   "execution_count": 128,
   "metadata": {},
   "outputs": [],
   "source": [
    "def getMean(data, value):\n",
    "    total = 0\n",
    "    count = 0;\n",
    "    for baby in data:\n",
    "        total = total + baby.prglength\n",
    "        count = count+1\n",
    "    return (total/count)"
   ]
  },
  {
   "cell_type": "code",
   "execution_count": 130,
   "metadata": {},
   "outputs": [
    {
     "name": "stdout",
     "output_type": "stream",
     "text": [
      "Mean of first birth kids :  38.60095173351461\n",
      "Mean of last birth kids :  38.52291446673706\n",
      "differnce in first birth and last birth kids in days :  0.5462608674428466\n"
     ]
    }
   ],
   "source": [
    "def getFirstBirthBabies(data):\n",
    "    firstbabies = []\n",
    "    otherbabies = []\n",
    "    for baby in data:\n",
    "        if baby.outcome != 1:\n",
    "            continue\n",
    "        if baby.birthord == 1:\n",
    "            firstbabies.append(baby)\n",
    "        else :\n",
    "            otherbabies.append(baby)\n",
    "    return firstbabies, otherbabies\n",
    "firsts, lasts = getFirstBirthBabies(table.records);\n",
    "firstBirthMean = getMean(firsts, 'prglength')\n",
    "lastBirthMean = getMean(lasts, 'prglength')\n",
    "difference = (firstBirthMean - lastBirthMean)*7\n",
    "print('Mean of first birth kids : ',firstBirthMean)\n",
    "print('Mean of last birth kids : ',lastBirthMean)\n",
    "print('differnce in first birth and last birth kids in days : ',difference)"
   ]
  },
  {
   "cell_type": "code",
   "execution_count": null,
   "metadata": {},
   "outputs": [],
   "source": []
  }
 ],
 "metadata": {
  "kernelspec": {
   "display_name": "Python 3",
   "language": "python",
   "name": "python3"
  },
  "language_info": {
   "codemirror_mode": {
    "name": "ipython",
    "version": 3
   },
   "file_extension": ".py",
   "mimetype": "text/x-python",
   "name": "python",
   "nbconvert_exporter": "python",
   "pygments_lexer": "ipython3",
   "version": "3.7.3"
  }
 },
 "nbformat": 4,
 "nbformat_minor": 2
}
